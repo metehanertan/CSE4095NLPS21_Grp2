{
 "cells": [
  {
   "cell_type": "markdown",
   "metadata": {},
   "source": [
    "<h1>Preprocessing</h1>"
   ]
  },
  {
   "cell_type": "code",
   "execution_count": 1,
   "metadata": {},
   "outputs": [
    {
     "name": "stdout",
     "output_type": "stream",
     "text": [
      "4392\n",
      "<class 'pandas.core.frame.DataFrame'>\n",
      "Int64Index: 22077 entries, 0 to 4391\n",
      "Columns: 226 entries, Stock to Year\n",
      "dtypes: float64(222), int64(2), object(2)\n",
      "memory usage: 38.2+ MB\n"
     ]
    },
    {
     "data": {
      "text/html": [
       "<div>\n",
       "<style scoped>\n",
       "    .dataframe tbody tr th:only-of-type {\n",
       "        vertical-align: middle;\n",
       "    }\n",
       "\n",
       "    .dataframe tbody tr th {\n",
       "        vertical-align: top;\n",
       "    }\n",
       "\n",
       "    .dataframe thead th {\n",
       "        text-align: right;\n",
       "    }\n",
       "</style>\n",
       "<table border=\"1\" class=\"dataframe\">\n",
       "  <thead>\n",
       "    <tr style=\"text-align: right;\">\n",
       "      <th></th>\n",
       "      <th>Stock</th>\n",
       "      <th>Revenue</th>\n",
       "      <th>Revenue Growth</th>\n",
       "      <th>Cost of Revenue</th>\n",
       "      <th>Gross Profit</th>\n",
       "      <th>R&amp;D Expenses</th>\n",
       "      <th>SG&amp;A Expense</th>\n",
       "      <th>Operating Expenses</th>\n",
       "      <th>Operating Income</th>\n",
       "      <th>Interest Expense</th>\n",
       "      <th>...</th>\n",
       "      <th>Inventory Growth</th>\n",
       "      <th>Asset Growth</th>\n",
       "      <th>Book Value per Share Growth</th>\n",
       "      <th>Debt Growth</th>\n",
       "      <th>R&amp;D Expense Growth</th>\n",
       "      <th>SG&amp;A Expenses Growth</th>\n",
       "      <th>Sector</th>\n",
       "      <th>PRICE VAR NEXT YEAR</th>\n",
       "      <th>Class</th>\n",
       "      <th>Year</th>\n",
       "    </tr>\n",
       "  </thead>\n",
       "  <tbody>\n",
       "    <tr>\n",
       "      <th>0</th>\n",
       "      <td>PG</td>\n",
       "      <td>7.440100e+10</td>\n",
       "      <td>-0.0713</td>\n",
       "      <td>3.903000e+10</td>\n",
       "      <td>3.537100e+10</td>\n",
       "      <td>0.000000e+00</td>\n",
       "      <td>2.146100e+10</td>\n",
       "      <td>2.146100e+10</td>\n",
       "      <td>1.391000e+10</td>\n",
       "      <td>7.090000e+08</td>\n",
       "      <td>...</td>\n",
       "      <td>-0.0217</td>\n",
       "      <td>0.0359</td>\n",
       "      <td>0.0316</td>\n",
       "      <td>0.1228</td>\n",
       "      <td>0.0000</td>\n",
       "      <td>-0.1746</td>\n",
       "      <td>Consumer Defensive</td>\n",
       "      <td>-9.323276</td>\n",
       "      <td>0</td>\n",
       "      <td>2014</td>\n",
       "    </tr>\n",
       "    <tr>\n",
       "      <th>1</th>\n",
       "      <td>VIPS</td>\n",
       "      <td>3.734148e+09</td>\n",
       "      <td>1.1737</td>\n",
       "      <td>2.805625e+09</td>\n",
       "      <td>9.285226e+08</td>\n",
       "      <td>1.083303e+08</td>\n",
       "      <td>3.441414e+08</td>\n",
       "      <td>7.939267e+08</td>\n",
       "      <td>1.345959e+08</td>\n",
       "      <td>1.214869e+07</td>\n",
       "      <td>...</td>\n",
       "      <td>NaN</td>\n",
       "      <td>NaN</td>\n",
       "      <td>NaN</td>\n",
       "      <td>NaN</td>\n",
       "      <td>1.6484</td>\n",
       "      <td>1.7313</td>\n",
       "      <td>Consumer Defensive</td>\n",
       "      <td>-25.512193</td>\n",
       "      <td>0</td>\n",
       "      <td>2014</td>\n",
       "    </tr>\n",
       "    <tr>\n",
       "      <th>2</th>\n",
       "      <td>KR</td>\n",
       "      <td>9.837500e+10</td>\n",
       "      <td>0.0182</td>\n",
       "      <td>7.813800e+10</td>\n",
       "      <td>2.023700e+10</td>\n",
       "      <td>0.000000e+00</td>\n",
       "      <td>1.519600e+10</td>\n",
       "      <td>1.751200e+10</td>\n",
       "      <td>2.725000e+09</td>\n",
       "      <td>4.430000e+08</td>\n",
       "      <td>...</td>\n",
       "      <td>0.0981</td>\n",
       "      <td>0.1886</td>\n",
       "      <td>0.3268</td>\n",
       "      <td>0.2738</td>\n",
       "      <td>0.0000</td>\n",
       "      <td>0.0234</td>\n",
       "      <td>Consumer Defensive</td>\n",
       "      <td>33.118297</td>\n",
       "      <td>1</td>\n",
       "      <td>2014</td>\n",
       "    </tr>\n",
       "    <tr>\n",
       "      <th>3</th>\n",
       "      <td>RAD</td>\n",
       "      <td>2.552641e+10</td>\n",
       "      <td>0.0053</td>\n",
       "      <td>1.820268e+10</td>\n",
       "      <td>7.323734e+09</td>\n",
       "      <td>0.000000e+00</td>\n",
       "      <td>6.561162e+09</td>\n",
       "      <td>6.586482e+09</td>\n",
       "      <td>7.372520e+08</td>\n",
       "      <td>4.245910e+08</td>\n",
       "      <td>...</td>\n",
       "      <td>-0.0510</td>\n",
       "      <td>-0.0189</td>\n",
       "      <td>0.1963</td>\n",
       "      <td>-0.0458</td>\n",
       "      <td>0.0000</td>\n",
       "      <td>-0.0060</td>\n",
       "      <td>Consumer Defensive</td>\n",
       "      <td>2.752291</td>\n",
       "      <td>1</td>\n",
       "      <td>2014</td>\n",
       "    </tr>\n",
       "    <tr>\n",
       "      <th>4</th>\n",
       "      <td>GIS</td>\n",
       "      <td>1.790960e+10</td>\n",
       "      <td>0.0076</td>\n",
       "      <td>1.153980e+10</td>\n",
       "      <td>6.369800e+09</td>\n",
       "      <td>0.000000e+00</td>\n",
       "      <td>3.474300e+09</td>\n",
       "      <td>3.412400e+09</td>\n",
       "      <td>2.957400e+09</td>\n",
       "      <td>3.024000e+08</td>\n",
       "      <td>...</td>\n",
       "      <td>0.0090</td>\n",
       "      <td>0.0215</td>\n",
       "      <td>0.0274</td>\n",
       "      <td>0.1025</td>\n",
       "      <td>0.0000</td>\n",
       "      <td>-0.0220</td>\n",
       "      <td>Consumer Defensive</td>\n",
       "      <td>12.897715</td>\n",
       "      <td>1</td>\n",
       "      <td>2014</td>\n",
       "    </tr>\n",
       "  </tbody>\n",
       "</table>\n",
       "<p>5 rows × 226 columns</p>\n",
       "</div>"
      ],
      "text/plain": [
       "  Stock       Revenue  Revenue Growth  Cost of Revenue  Gross Profit  \\\n",
       "0    PG  7.440100e+10         -0.0713     3.903000e+10  3.537100e+10   \n",
       "1  VIPS  3.734148e+09          1.1737     2.805625e+09  9.285226e+08   \n",
       "2    KR  9.837500e+10          0.0182     7.813800e+10  2.023700e+10   \n",
       "3   RAD  2.552641e+10          0.0053     1.820268e+10  7.323734e+09   \n",
       "4   GIS  1.790960e+10          0.0076     1.153980e+10  6.369800e+09   \n",
       "\n",
       "   R&D Expenses  SG&A Expense  Operating Expenses  Operating Income  \\\n",
       "0  0.000000e+00  2.146100e+10        2.146100e+10      1.391000e+10   \n",
       "1  1.083303e+08  3.441414e+08        7.939267e+08      1.345959e+08   \n",
       "2  0.000000e+00  1.519600e+10        1.751200e+10      2.725000e+09   \n",
       "3  0.000000e+00  6.561162e+09        6.586482e+09      7.372520e+08   \n",
       "4  0.000000e+00  3.474300e+09        3.412400e+09      2.957400e+09   \n",
       "\n",
       "   Interest Expense  ...  Inventory Growth  Asset Growth  \\\n",
       "0      7.090000e+08  ...           -0.0217        0.0359   \n",
       "1      1.214869e+07  ...               NaN           NaN   \n",
       "2      4.430000e+08  ...            0.0981        0.1886   \n",
       "3      4.245910e+08  ...           -0.0510       -0.0189   \n",
       "4      3.024000e+08  ...            0.0090        0.0215   \n",
       "\n",
       "   Book Value per Share Growth  Debt Growth  R&D Expense Growth  \\\n",
       "0                       0.0316       0.1228              0.0000   \n",
       "1                          NaN          NaN              1.6484   \n",
       "2                       0.3268       0.2738              0.0000   \n",
       "3                       0.1963      -0.0458              0.0000   \n",
       "4                       0.0274       0.1025              0.0000   \n",
       "\n",
       "   SG&A Expenses Growth              Sector  PRICE VAR NEXT YEAR  Class  Year  \n",
       "0               -0.1746  Consumer Defensive            -9.323276      0  2014  \n",
       "1                1.7313  Consumer Defensive           -25.512193      0  2014  \n",
       "2                0.0234  Consumer Defensive            33.118297      1  2014  \n",
       "3               -0.0060  Consumer Defensive             2.752291      1  2014  \n",
       "4               -0.0220  Consumer Defensive            12.897715      1  2014  \n",
       "\n",
       "[5 rows x 226 columns]"
      ]
     },
     "execution_count": 1,
     "metadata": {},
     "output_type": "execute_result"
    }
   ],
   "source": [
    "import pandas as pd\n",
    "import numpy as np\n",
    "\n",
    "from scipy.cluster.hierarchy import dendrogram,linkage\n",
    "\n",
    "from sklearn.cluster import AgglomerativeClustering #AGNES\n",
    "from sklearn.cluster import KMeans\n",
    "from sklearn.cluster import DBSCAN\n",
    "from sklearn.neighbors import NearestNeighbors\n",
    "\n",
    "from mlxtend.evaluate import paired_ttest_5x2cv\n",
    "\n",
    "import matplotlib.pyplot as plt\n",
    "\n",
    "import warnings\n",
    "\n",
    "import seaborn as sn\n",
    "\n",
    "import warnings\n",
    "\n",
    "from collections import Counter\n",
    "from sklearn import svm\n",
    "from sklearn import metrics \n",
    "from sklearn.model_selection import train_test_split\n",
    "from sklearn.preprocessing import StandardScaler\n",
    "from sklearn.decomposition import PCA\n",
    "from yellowbrick.cluster import KElbowVisualizer\n",
    "from sklearn import metrics\n",
    "from sklearn.metrics import silhouette_samples,silhouette_score,adjusted_rand_score\n",
    "from sklearn.cluster import AgglomerativeClustering #AGNES\n",
    "from sklearn.cluster import KMeans\n",
    "from scipy.cluster.hierarchy import dendrogram,linkage\n",
    "from sklearn.cluster import DBSCAN\n",
    "from sklearn.neighbors import NearestNeighbors\n",
    "\n",
    "warnings.filterwarnings('ignore')\n",
    "\n",
    "#Reading data\n",
    "df2014=pd.read_csv(\"../2014_Financial_Data.csv\")\n",
    "df2015=pd.read_csv(\"../2015_Financial_Data.csv\")\n",
    "df2016=pd.read_csv(\"../2016_Financial_Data.csv\")\n",
    "df2017=pd.read_csv(\"../2017_Financial_Data.csv\")\n",
    "df2018=pd.read_csv(\"../2018_Financial_Data.csv\")\n",
    "\n",
    "#Changing column name for price variation into same name\n",
    "df2014.rename(columns={\"2015 PRICE VAR [%]\": \"PRICE VAR NEXT YEAR\"},inplace=True)\n",
    "df2015.rename(columns={\"2016 PRICE VAR [%]\": \"PRICE VAR NEXT YEAR\"},inplace=True)\n",
    "df2016.rename(columns={\"2017 PRICE VAR [%]\": \"PRICE VAR NEXT YEAR\"},inplace=True)\n",
    "df2017.rename(columns={\"2018 PRICE VAR [%]\": \"PRICE VAR NEXT YEAR\"},inplace=True)\n",
    "df2018.rename(columns={\"2019 PRICE VAR [%]\": \"PRICE VAR NEXT YEAR\"},inplace=True)\n",
    "\n",
    "#Adding year attribute for each csv file\n",
    "df2014['Year']=2014\n",
    "df2015['Year']=2015\n",
    "df2016['Year']=2016\n",
    "df2017['Year']=2017\n",
    "df2018['Year']=2018\n",
    "\n",
    "data = pd.concat([df2014 ,df2015, df2016, df2017, df2018])\n",
    "data.rename(columns={'Unnamed: 0':'Stock'}, inplace=True)\n",
    "\n",
    "print(len(df2018))\n",
    "data.info()\n",
    "data.head()"
   ]
  },
  {
   "cell_type": "code",
   "execution_count": 2,
   "metadata": {},
   "outputs": [],
   "source": [
    "X=data\n",
    "y=data[\"Class\"]\n",
    "\n",
    "X=X.drop(\"Stock\",axis=1)\n",
    "X=X.drop(\"PRICE VAR NEXT YEAR\",axis=1)\n",
    "X=X.drop(\"Class\",axis=1)\n",
    "X=X.drop(\"Year\",axis=1)"
   ]
  },
  {
   "cell_type": "markdown",
   "metadata": {},
   "source": [
    "<h3>Dropping attributes which frequently contain missing values, Dimensionality Reduction</h3>"
   ]
  },
  {
   "cell_type": "code",
   "execution_count": 3,
   "metadata": {},
   "outputs": [
    {
     "name": "stdout",
     "output_type": "stream",
     "text": [
      "['priceEarningsToGrowthRatio', 'ebtperEBIT', 'niperEBT', 'effectiveTaxRate', 'nIperEBT', 'eBTperEBIT', 'operatingCycle', 'cashConversionCycle', 'shortTermCoverageRatios', 'dividendPayoutRatio', 'Net Debt to EBITDA', '10Y Revenue Growth (per Share)', '10Y Operating CF Growth (per Share)', '10Y Net Income Growth (per Share)', '10Y Shareholders Equity Growth (per Share)', '10Y Dividend per Share Growth (per Share)'] 16\n"
     ]
    }
   ],
   "source": [
    "attributeNames=X.columns.tolist()\n",
    "missingPercentage = X.isnull().sum() * 100 / len(X) # missing val % for each column\n",
    "thresholdedAttribute=missingPercentage.where(missingPercentage>=33)\n",
    "thresholdedAttribute=[attributeNames[a] for a in range(len(thresholdedAttribute)) if str(thresholdedAttribute[a]) != \"nan\"]\n",
    "print(thresholdedAttribute,len(thresholdedAttribute))"
   ]
  },
  {
   "cell_type": "code",
   "execution_count": 4,
   "metadata": {},
   "outputs": [
    {
     "name": "stdout",
     "output_type": "stream",
     "text": [
      "(22077, 222)\n",
      "(22077, 206)\n"
     ]
    }
   ],
   "source": [
    "#drop the columns that has more than 33% missing values\n",
    "print(X.shape)\n",
    "X=X.drop(thresholdedAttribute,axis=1)\n",
    "print(X.shape)\n",
    "attributeNames=X.columns.tolist()\n",
    "missingPercentage = X.isnull().sum() * 100 / len(X) # missing val % for each column"
   ]
  },
  {
   "cell_type": "code",
   "execution_count": 5,
   "metadata": {},
   "outputs": [],
   "source": [
    "# Replace nan-values with mean value of column, considering each sector individually.\n",
    "X = X.groupby(['Sector']).transform(lambda x: x.fillna(x.mean()))"
   ]
  },
  {
   "cell_type": "markdown",
   "metadata": {},
   "source": [
    "**Reducing Dimensions to 2 with PCA**"
   ]
  },
  {
   "cell_type": "code",
   "execution_count": 6,
   "metadata": {},
   "outputs": [],
   "source": [
    "# Define the scaler \n",
    "scaler = StandardScaler().fit(X)\n",
    "# Scale the X\n",
    "X_scaled = scaler.transform(X)\n",
    "X_reduced = PCA(2).fit_transform(X_scaled) #reducing data into 2 dimension"
   ]
  },
  {
   "cell_type": "markdown",
   "metadata": {},
   "source": [
    "<h3>Clustering</h3>"
   ]
  },
  {
   "cell_type": "markdown",
   "metadata": {},
   "source": [
    "**Choosing number of clusters for K-Means with Elbow Method**"
   ]
  },
  {
   "cell_type": "code",
   "execution_count": 7,
   "metadata": {},
   "outputs": [
    {
     "data": {
      "image/png": "[encoded data removed]",
      "text/plain": [
       "<Figure size 576x396 with 2 Axes>"
      ]
     },
     "metadata": {},
     "output_type": "display_data"
    }
   ],
   "source": [
    "def Elbow(X):\n",
    "    # Instantiate the clustering model and visualizer\n",
    "    model = KMeans()\n",
    "    visualizer = KElbowVisualizer(model, k=(2,20))\n",
    "    visualizer.fit(X)        # Fit the data to the visualizer\n",
    "    visualizer.show()        # Finalize and render the figure\n",
    "    \n",
    "Elbow(X_reduced)"
   ]
  },
  {
   "cell_type": "code",
   "execution_count": 8,
   "metadata": {},
   "outputs": [],
   "source": [
    "def dfInsertRow(df,row):\n",
    "    row_series = pd.Series(row, index = df.columns)\n",
    "    df = df.append(row_series, ignore_index=True)\n",
    "    return df\n",
    "    \n",
    "def Clustering(clusteringMethod,X, labels_true, clusteringMethodName,explode): #Clustering\n",
    "    cls = clusteringMethod.fit(X)\n",
    "    noClusters = len(np.unique(cls.labels_))\n",
    "    labels=cls.labels_\n",
    "    \n",
    "    unique_elements, counts_elements = np.unique(labels, return_counts=True)\n",
    "    #explode = [0.2, 0,  0.2, 0.4, 0.6, 0.8]\n",
    "    labels_plt = unique_elements\n",
    "    sizes = counts_elements\n",
    "    # Plot\n",
    "    #plt.figure(figsize=(10,10))\n",
    "    plt.pie(sizes,labels=labels_plt, explode=explode, autopct='%1.1f%%', shadow=True, startangle=140)\n",
    "    plt.axis('equal')\n",
    "    plt.show()\n",
    "    \n",
    "    \n",
    "    averag=counts_elements.mean()\n",
    "    stdDev=counts_elements.std()\n",
    "    clusters=dict(sorted(Counter(labels).items()))\n",
    "    clusters['avg']=counts_elements.mean()\n",
    "    try:\n",
    "        SSE=cls.inertia_\n",
    "    except:\n",
    "        SSE=\"---\"\n",
    "    silhoutteVal=metrics.silhouette_score(X, labels)\n",
    "    RI=metrics.adjusted_rand_score(labels_true, labels)\n",
    "    NMI=metrics.normalized_mutual_info_score(labels_true, labels)\n",
    "    \n",
    "    return [clusteringMethodName, noClusters, clusters, stdDev, SSE, NMI, silhoutteVal, RI]\n",
    "\n",
    "dfEvaluation  = pd.DataFrame(columns = [\"Experiment\", \"# of Clusters\", \"Average Number of Instances in Clusters\", \"Std. Dev.\", \"SSE\",\"NMI\",\"Silhoutte Value\",\"Adjusted RI\"])\n",
    "explodeK=[0.2, 0,  0.2, 0.4, 0.6, 0.8]\n",
    "explodeA=[0, 0.2, 0.4, 0.6, 0]\n",
    "explodeD=[0,0,0,0,0]"
   ]
  },
  {
   "cell_type": "markdown",
   "metadata": {},
   "source": [
    "**K-Means with # of clusters=6**"
   ]
  },
  {
   "cell_type": "code",
   "execution_count": 9,
   "metadata": {
    "scrolled": false
   },
   "outputs": [
    {
     "data": {
      "image/png": "[encoded data removed]",
      "text/plain": [
       "<Figure size 576x396 with 1 Axes>"
      ]
     },
     "metadata": {},
     "output_type": "display_data"
    }
   ],
   "source": [
    "kmeans = KMeans(n_clusters=6)\n",
    "dfEvaluation=dfInsertRow(dfEvaluation,Clustering(kmeans,X_reduced, y,\"K-Means\",explodeK))"
   ]
  },
  {
   "cell_type": "markdown",
   "metadata": {},
   "source": [
    "**AGNES with # of clusters=5**"
   ]
  },
  {
   "cell_type": "code",
   "execution_count": 10,
   "metadata": {},
   "outputs": [
    {
     "data": {
      "image/png": "[encoded data removed]",
      "text/plain": [
       "<Figure size 576x396 with 1 Axes>"
      ]
     },
     "metadata": {},
     "output_type": "display_data"
    }
   ],
   "source": [
    "AGNES = AgglomerativeClustering(n_clusters=5)\n",
    "dfEvaluation=dfInsertRow(dfEvaluation,Clustering(AGNES,X_reduced, y,\"AGNES\",explodeA))"
   ]
  },
  {
   "cell_type": "markdown",
   "metadata": {},
   "source": [
    "**DBSCAN with eps=0.04, min_samples=72**"
   ]
  },
  {
   "cell_type": "code",
   "execution_count": 11,
   "metadata": {},
   "outputs": [
    {
     "data": {
      "image/png": "[encoded data removed]",
      "text/plain": [
       "<Figure size 576x396 with 1 Axes>"
      ]
     },
     "metadata": {},
     "output_type": "display_data"
    }
   ],
   "source": [
    "DB=DBSCAN(eps=0.04, min_samples=72) #for reverse take eps=0.3\n",
    "dfEvaluation=dfInsertRow(dfEvaluation,Clustering(DB,X_reduced, y,\"DBSCAN\",explodeD))"
   ]
  },
  {
   "cell_type": "markdown",
   "metadata": {},
   "source": [
    "<h3>Evaluation Table</h3>"
   ]
  },
  {
   "cell_type": "code",
   "execution_count": 12,
   "metadata": {},
   "outputs": [
    {
     "data": {
      "text/html": [
       "<div>\n",
       "<style scoped>\n",
       "    .dataframe tbody tr th:only-of-type {\n",
       "        vertical-align: middle;\n",
       "    }\n",
       "\n",
       "    .dataframe tbody tr th {\n",
       "        vertical-align: top;\n",
       "    }\n",
       "\n",
       "    .dataframe thead th {\n",
       "        text-align: right;\n",
       "    }\n",
       "</style>\n",
       "<table border=\"1\" class=\"dataframe\">\n",
       "  <thead>\n",
       "    <tr style=\"text-align: right;\">\n",
       "      <th></th>\n",
       "      <th>Experiment</th>\n",
       "      <th># of Clusters</th>\n",
       "      <th>Average Number of Instances in Clusters</th>\n",
       "      <th>Std. Dev.</th>\n",
       "      <th>SSE</th>\n",
       "      <th>NMI</th>\n",
       "      <th>Silhoutte Value</th>\n",
       "      <th>Adjusted RI</th>\n",
       "    </tr>\n",
       "  </thead>\n",
       "  <tbody>\n",
       "    <tr>\n",
       "      <th>0</th>\n",
       "      <td>K-Means</td>\n",
       "      <td>6</td>\n",
       "      <td>{0: 21255, 1: 3, 2: 130, 3: 1, 4: 8, 5: 680, 'avg': 3679.5}</td>\n",
       "      <td>7863.651373</td>\n",
       "      <td>108965</td>\n",
       "      <td>0.002458</td>\n",
       "      <td>0.879994</td>\n",
       "      <td>-0.002637</td>\n",
       "    </tr>\n",
       "    <tr>\n",
       "      <th>1</th>\n",
       "      <td>AGNES</td>\n",
       "      <td>5</td>\n",
       "      <td>{0: 583, 1: 35, 2: 11, 3: 1, 4: 21447, 'avg': 4415.4}</td>\n",
       "      <td>8518.641432</td>\n",
       "      <td>---</td>\n",
       "      <td>0.001055</td>\n",
       "      <td>0.910104</td>\n",
       "      <td>-0.001390</td>\n",
       "    </tr>\n",
       "    <tr>\n",
       "      <th>2</th>\n",
       "      <td>DBSCAN</td>\n",
       "      <td>5</td>\n",
       "      <td>{-1: 2910, 0: 16838, 1: 811, 2: 874, 3: 644, 'avg': 4415.4}</td>\n",
       "      <td>6266.480531</td>\n",
       "      <td>---</td>\n",
       "      <td>0.004561</td>\n",
       "      <td>0.249879</td>\n",
       "      <td>0.002704</td>\n",
       "    </tr>\n",
       "  </tbody>\n",
       "</table>\n",
       "</div>"
      ],
      "text/plain": [
       "  Experiment # of Clusters  \\\n",
       "0    K-Means             6   \n",
       "1      AGNES             5   \n",
       "2     DBSCAN             5   \n",
       "\n",
       "                       Average Number of Instances in Clusters    Std. Dev.  \\\n",
       "0  {0: 21255, 1: 3, 2: 130, 3: 1, 4: 8, 5: 680, 'avg': 3679.5}  7863.651373   \n",
       "1        {0: 583, 1: 35, 2: 11, 3: 1, 4: 21447, 'avg': 4415.4}  8518.641432   \n",
       "2  {-1: 2910, 0: 16838, 1: 811, 2: 874, 3: 644, 'avg': 4415.4}  6266.480531   \n",
       "\n",
       "      SSE       NMI  Silhoutte Value  Adjusted RI  \n",
       "0  108965  0.002458         0.879994    -0.002637  \n",
       "1     ---  0.001055         0.910104    -0.001390  \n",
       "2     ---  0.004561         0.249879     0.002704  "
      ]
     },
     "execution_count": 12,
     "metadata": {},
     "output_type": "execute_result"
    }
   ],
   "source": [
    "pd.set_option('display.max_colwidth', None)\n",
    "dfEvaluation.head(len(dfEvaluation))"
   ]
  }
 ],
 "metadata": {
  "kernelspec": {
   "display_name": "Python 3",
   "language": "python",
   "name": "python3"
  },
  "language_info": {
   "codemirror_mode": {
    "name": "ipython",
    "version": 3
   },
   "file_extension": ".py",
   "mimetype": "text/x-python",
   "name": "python",
   "nbconvert_exporter": "python",
   "pygments_lexer": "ipython3",
   "version": "3.7.0"
  }
 },
 "nbformat": 4,
 "nbformat_minor": 4
}
