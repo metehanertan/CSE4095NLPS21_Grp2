{
 "cells": [
  {
   "cell_type": "code",
   "execution_count": 1,
   "id": "de301856",
   "metadata": {},
   "outputs": [
    {
     "name": "stdout",
     "output_type": "stream",
     "text": [
      "12325 12362 12338 12368\n"
     ]
    }
   ],
   "source": [
    "import os\n",
    "import numpy as np\n",
    "import pandas as pd\n",
    "from sklearn.utils import shuffle\n",
    "from sklearn.metrics import make_scorer, accuracy_score, precision_score, recall_score, f1_score, roc_auc_score\n",
    "from sklearn import metrics\n",
    "import nltk\n",
    "import string\n",
    "import seaborn as sn\n",
    "import matplotlib.pyplot as plt\n",
    "from sklearn.linear_model import LogisticRegression\n",
    "from sklearn.feature_extraction.text import CountVectorizer,TfidfVectorizer\n",
    "import seaborn as sn\n",
    "import matplotlib.pyplot as plt\n",
    "from sklearn.svm import LinearSVC\n",
    "from sklearn.model_selection import train_test_split\n",
    "\n",
    "#Reading imdb reviews data\n",
    "dfTrainP=pd.read_csv(r'imdbTrain.pos')\n",
    "dfTrainN=pd.read_csv(r'imdbTrain.neg')\n",
    "dfTestP=pd.read_csv(r'imdbTest.pos')\n",
    "dfTestN=pd.read_csv(r'imdbTest.neg')\n",
    "pd.set_option('display.max_colwidth', None)\n",
    "print(len(dfTrainP),len(dfTrainN),len(dfTestP),len(dfTestN))"
   ]
  },
  {
   "cell_type": "code",
   "execution_count": 2,
   "id": "b38b03b9",
   "metadata": {},
   "outputs": [
    {
     "data": {
      "text/html": [
       "<div>\n",
       "<style scoped>\n",
       "    .dataframe tbody tr th:only-of-type {\n",
       "        vertical-align: middle;\n",
       "    }\n",
       "\n",
       "    .dataframe tbody tr th {\n",
       "        vertical-align: top;\n",
       "    }\n",
       "\n",
       "    .dataframe thead th {\n",
       "        text-align: right;\n",
       "    }\n",
       "</style>\n",
       "<table border=\"1\" class=\"dataframe\">\n",
       "  <thead>\n",
       "    <tr style=\"text-align: right;\">\n",
       "      <th></th>\n",
       "      <th>Text</th>\n",
       "      <th>Sentiment</th>\n",
       "    </tr>\n",
       "  </thead>\n",
       "  <tbody>\n",
       "    <tr>\n",
       "      <th>0</th>\n",
       "      <td>fena değil paraya göre iyi.</td>\n",
       "      <td>1</td>\n",
       "    </tr>\n",
       "    <tr>\n",
       "      <th>1</th>\n",
       "      <td>ürün kaliteli ve çok kullanışlı kargo ya verilmesi ve elime çabuk ulaşması da gayet başarılı idi</td>\n",
       "      <td>1</td>\n",
       "    </tr>\n",
       "    <tr>\n",
       "      <th>2</th>\n",
       "      <td>fiyat-performans karşılaştırması yaptığınızda gayet iyi bir ürün. en önemlisi ısınma yapmıyor.</td>\n",
       "      <td>1</td>\n",
       "    </tr>\n",
       "    <tr>\n",
       "      <th>3</th>\n",
       "      <td>bu fiyata çok iyi</td>\n",
       "      <td>1</td>\n",
       "    </tr>\n",
       "    <tr>\n",
       "      <th>4</th>\n",
       "      <td>fiyat ve performans olarak gayet iyi</td>\n",
       "      <td>1</td>\n",
       "    </tr>\n",
       "  </tbody>\n",
       "</table>\n",
       "</div>"
      ],
      "text/plain": [
       "                                                                                               Text  \\\n",
       "0                                                                       fena değil paraya göre iyi.   \n",
       "1  ürün kaliteli ve çok kullanışlı kargo ya verilmesi ve elime çabuk ulaşması da gayet başarılı idi   \n",
       "2   fiyat-performans karşılaştırması yaptığınızda gayet iyi bir ürün. en önemlisi ısınma yapmıyor.    \n",
       "3                                                                                 bu fiyata çok iyi   \n",
       "4                                                              fiyat ve performans olarak gayet iyi   \n",
       "\n",
       "   Sentiment  \n",
       "0          1  \n",
       "1          1  \n",
       "2          1  \n",
       "3          1  \n",
       "4          1  "
      ]
     },
     "execution_count": 2,
     "metadata": {},
     "output_type": "execute_result"
    }
   ],
   "source": [
    "#reading reviews data\n",
    "df2P=pd.read_csv(r'reviews.pos',names=[\"Text\"])\n",
    "df2N=pd.read_csv(r'reviews.neg',names=[\"Text\"])\n",
    "\n",
    "df2P[\"Sentiment\"] = 1\n",
    "df2N[\"Sentiment\"] = 0\n",
    "df2P_train, df2P_test=train_test_split( df2P, test_size=0.2)\n",
    "df2N_train, df2N_test=train_test_split( df2N, test_size=0.2)\n",
    "df2P.head()"
   ]
  },
  {
   "cell_type": "code",
   "execution_count": 3,
   "id": "cb60b700",
   "metadata": {},
   "outputs": [],
   "source": [
    "dfTrainP = dfTrainP.rename(columns={'0': 'Text'})\n",
    "dfTrainN = dfTrainN.rename(columns={'0': 'Text'})\n",
    "dfTestP = dfTestP.rename(columns={'0': 'Text'})\n",
    "dfTestN = dfTestN.rename(columns={'0': 'Text'})"
   ]
  },
  {
   "cell_type": "code",
   "execution_count": 4,
   "id": "5694d22d",
   "metadata": {
    "scrolled": true
   },
   "outputs": [
    {
     "name": "stdout",
     "output_type": "stream",
     "text": [
      "24687 24705\n"
     ]
    }
   ],
   "source": [
    "dfTrainP[\"Sentiment\"] = 1\n",
    "dfTrainN[\"Sentiment\"] = 0\n",
    "dfTestP[\"Sentiment\"] = 1\n",
    "dfTestN[\"Sentiment\"] = 0\n",
    "\n",
    "#building training, test sets //different type of sets used for different models\n",
    "\n",
    "dfTrain= pd.concat([dfTrainP ,dfTrainN])\n",
    "dfTest= pd.concat([dfTestP ,dfTestN])\n",
    "#dfTrain= pd.concat([dfTrainP ,dfTrainN, df2P_train, df2N_train])\n",
    "#dfTest= pd.concat([dfTestP ,dfTestN,df2P_test,df2N_test])\n",
    "dfTrain[\"type\"]=dfTrain['Text'].apply(type)\n",
    "dfTest[\"type\"]=dfTest['Text'].apply(type)\n",
    "\n",
    "dfTrain=dfTrain[dfTrain[\"type\"]!=float]\n",
    "dfTest=dfTest[dfTest[\"type\"]!=float]\n",
    "#dfTrain=shuffle(dfTrain)\n",
    "#dfTest=shuffle(dfTest)\n",
    "#df=pd.concat([dfTrain ,dfTest])\n",
    "print(len(dfTrain),len(dfTest))"
   ]
  },
  {
   "cell_type": "code",
   "execution_count": 5,
   "id": "ec3354ad",
   "metadata": {},
   "outputs": [
    {
     "name": "stdout",
     "output_type": "stream",
     "text": [
      "<class 'str'>    24687\n",
      "Name: Text, dtype: int64\n",
      "<class 'str'>    24705\n",
      "Name: Text, dtype: int64\n"
     ]
    }
   ],
   "source": [
    "##dfTrain, dfTest=train_test_split(df,test_size=0.2)\n",
    "##print(dfTrain.Sentiment.value_counts())\n",
    "##print(dfTest.Sentiment.value_counts())\n",
    "dfTrain=shuffle(dfTrain)\n",
    "dfTest=shuffle(dfTest)\n",
    "print(dfTrain[\"Text\"].apply(type).value_counts())\n",
    "print(dfTest[\"Text\"].apply(type).value_counts())"
   ]
  },
  {
   "cell_type": "code",
   "execution_count": 6,
   "id": "8d4ee884",
   "metadata": {},
   "outputs": [],
   "source": [
    "# split dataset\n",
    "X_train = dfTrain['Text'].copy()\n",
    "X_test = dfTest['Text'].copy()\n",
    "y_train = dfTrain['Sentiment']\n",
    "y_test = dfTest['Sentiment']"
   ]
  },
  {
   "cell_type": "code",
   "execution_count": 7,
   "id": "b6d35f8b",
   "metadata": {},
   "outputs": [
    {
     "name": "stdout",
     "output_type": "stream",
     "text": [
      "['acaba', 'ama', 'aslında', 'az', 'bazı', 'belki', 'biri', 'birkaç', 'birşey', 'biz', 'bu', 'çok', 'çünkü', 'da', 'daha', 'de', 'defa', 'diye', 'eğer', 'en', 'gibi', 'hem', 'hep', 'hepsi', 'her', 'hiç', 'için', 'ile', 'ise', 'kez', 'ki', 'kim', 'mı', 'mu', 'mü', 'nasıl', 'ne', 'neden', 'nerde', 'nerede', 'nereye', 'niçin', 'niye', 'o', 'sanki', 'şey', 'siz', 'şu', 'tüm', 've', 'veya', 'ya', 'yani']\n"
     ]
    }
   ],
   "source": [
    "WPT = nltk.WordPunctTokenizer()\n",
    "stop_word_list = nltk.corpus.stopwords.words('turkish')\n",
    "print(stop_word_list)"
   ]
  },
  {
   "cell_type": "code",
   "execution_count": 8,
   "id": "2519c9ec",
   "metadata": {},
   "outputs": [],
   "source": [
    "def text_preprocess(text): #text preprocessing, removing punctuations and stopwords\n",
    "    text = text.translate(str.maketrans('', '', string.punctuation))\n",
    "    text = [word for word in text.split() if word.lower() not in stop_word_list]\n",
    "    return \" \".join(text)\n",
    "\n",
    "X_train = X_train.apply(text_preprocess)\n",
    "X_test = X_test.apply(text_preprocess)"
   ]
  },
  {
   "cell_type": "code",
   "execution_count": 9,
   "id": "024cea90",
   "metadata": {},
   "outputs": [
    {
     "data": {
      "text/plain": [
       "LogisticRegression()"
      ]
     },
     "execution_count": 9,
     "metadata": {},
     "output_type": "execute_result"
    }
   ],
   "source": [
    "# tf idf vectors\n",
    "vect = TfidfVectorizer(encoding ='utf-8').fit(X_train) # fit and transform\n",
    "X_train_vectorized = vect.transform(X_train)\n",
    "\n",
    "# import LogisticRegression\n",
    "lr = LogisticRegression()\n",
    "\n",
    "# fitting model\n",
    "lr.fit(X_train_vectorized, y_train)"
   ]
  },
  {
   "cell_type": "code",
   "execution_count": 10,
   "id": "4332b03d",
   "metadata": {},
   "outputs": [
    {
     "name": "stdout",
     "output_type": "stream",
     "text": [
      "Accuracy:  0.8711192066383323\n",
      "Precision Macro: 0.8711449138555745\n",
      "Precision Micro: 0.8711192066383323\n",
      "Recall Macro: 0.8711241606478308\n",
      "Recall Mİcro: 0.8711192066383323\n",
      "F1-Macro: 0.8711178887545675\n",
      "F1-Micro: 0.8711192066383323\n",
      "AUC:  0.8711241606478308\n"
     ]
    }
   ],
   "source": [
    "# prediction\n",
    "predictions = lr.predict(vect.transform(X_test))\n",
    "# accuracy \n",
    "print('Accuracy: ',metrics.accuracy_score(y_test, predictions))\n",
    "print('Precision Macro:',metrics.precision_score(y_test, predictions, average='macro'))\n",
    "print('Precision Micro:',metrics.precision_score(y_test, predictions, average='micro'))\n",
    "print('Recall Macro:',metrics.recall_score(y_test, predictions, average='macro'))\n",
    "print('Recall Mİcro:',metrics.recall_score(y_test, predictions, average='micro'))\n",
    "print('F1-Macro:', metrics.f1_score(y_test, predictions,average=\"macro\"))\n",
    "print('F1-Micro:', metrics.f1_score(y_test, predictions,average=\"micro\"))\n",
    "print('AUC: ', metrics.roc_auc_score(y_test, predictions))"
   ]
  },
  {
   "cell_type": "code",
   "execution_count": 11,
   "id": "0d9bcd30",
   "metadata": {},
   "outputs": [
    {
     "data": {
      "image/png": "[encoded data removed]",
      "text/plain": [
       "<Figure size 432x288 with 2 Axes>"
      ]
     },
     "metadata": {
      "needs_background": "light"
     },
     "output_type": "display_data"
    }
   ],
   "source": [
    "data = {'y_test':    y_test,\n",
    "        'y_pred': predictions\n",
    "        }\n",
    "dfCMplt = pd.DataFrame(data, columns=['y_test','y_pred'])\n",
    "confusion_matrix = pd.crosstab(dfCMplt['y_test'], dfCMplt['y_pred'], rownames=['Actual'], colnames=['Predicted'])\n",
    "\n",
    "sn.heatmap(confusion_matrix, annot=True,fmt='g')\n",
    "plt.show()"
   ]
  },
  {
   "cell_type": "code",
   "execution_count": 15,
   "id": "ee6c8717",
   "metadata": {},
   "outputs": [
    {
     "name": "stdout",
     "output_type": "stream",
     "text": [
      "Accuracy:  0.8710382513661202\n",
      "Precision Macro: 0.8711340830659425\n",
      "Precision Micro: 0.8710382513661202\n",
      "Recall Macro: 0.871028855795317\n",
      "Recall Mİcro: 0.8710382513661202\n",
      "F1-Macro: 0.8710277429730406\n",
      "F1-Micro: 0.8710382513661202\n",
      "AUC:  0.8710288557953169\n"
     ]
    }
   ],
   "source": [
    "svc=LinearSVC()\n",
    "\n",
    "# fitting model\n",
    "svc.fit(X_train_vectorized, y_train)\n",
    "\n",
    "# prediction\n",
    "predictions = svc.predict(vect.transform(X_test))\n",
    "# accuracy \n",
    "print('Accuracy: ',metrics.accuracy_score(y_test, predictions))\n",
    "print('Precision Macro:',metrics.precision_score(y_test, predictions, average='macro'))\n",
    "print('Precision Micro:',metrics.precision_score(y_test, predictions, average='micro'))\n",
    "print('Recall Macro:',metrics.recall_score(y_test, predictions, average='macro'))\n",
    "print('Recall Mİcro:',metrics.recall_score(y_test, predictions, average='micro'))\n",
    "print('F1-Macro:', metrics.f1_score(y_test, predictions,average=\"macro\"))\n",
    "print('F1-Micro:', metrics.f1_score(y_test, predictions,average=\"micro\"))\n",
    "print('AUC: ', metrics.roc_auc_score(y_test, predictions))"
   ]
  },
  {
   "cell_type": "code",
   "execution_count": 16,
   "id": "ad96bc53",
   "metadata": {},
   "outputs": [
    {
     "name": "stdout",
     "output_type": "stream",
     "text": [
      "(24705,)\n",
      "(24705,)\n"
     ]
    },
    {
     "data": {
      "image/png": "[encoded data removed]",
      "text/plain": [
       "<Figure size 432x288 with 2 Axes>"
      ]
     },
     "metadata": {
      "needs_background": "light"
     },
     "output_type": "display_data"
    }
   ],
   "source": [
    "print(y_test.shape)\n",
    "print(predictions.shape)\n",
    "data = {'y_test':    y_test,\n",
    "        'y_pred': predictions\n",
    "        }\n",
    "dfCMplt = pd.DataFrame(data, columns=['y_test','y_pred'])\n",
    "confusion_matrix = pd.crosstab(dfCMplt['y_test'], dfCMplt['y_pred'], rownames=['Actual'], colnames=['Predicted'])\n",
    "\n",
    "sn.heatmap(confusion_matrix, annot=True,fmt='g')\n",
    "plt.show()"
   ]
  },
  {
   "cell_type": "markdown",
   "id": "be602e0b",
   "metadata": {},
   "source": [
    "**CountVectorizer**\n",
    "\n",
    "\n",
    "\n",
    "LR-\n",
    "Accuracy:  0.90925336460602\n",
    "AUC:  0.8435277022818786\n",
    "F1-Macro: 0.8589626861909924\n",
    "F1-Micro: 0.90925336460602\n",
    "\n",
    "LinearSVC-\n",
    "Accuracy:  0.8907968950689674\n",
    "AUC:  0.8238902035282154\n",
    "F1-Macro: 0.8330934049596225\n",
    "F1-Micro: 0.8907968950689674"
   ]
  },
  {
   "cell_type": "markdown",
   "id": "4829a114",
   "metadata": {},
   "source": [
    "**TFIDF**\n",
    "\n",
    "\n",
    "LR-\n",
    "Accuracy:  0.9085375218150087\n",
    "AUC:  0.829419835051312\n",
    "F1-Macro: 0.8536246927987683\n",
    "F1-Micro: 0.9085375218150087\n",
    "\n",
    "LinearSVC-\n",
    "Accuracy:  0.912349040139616\n",
    "AUC:  0.848201100021541\n",
    "F1-Macro: 0.8637993885466271\n",
    "F1-Micro: 0.912349040139616\n",
    "\n",
    "**TFIDF SadeceIMDB**\n",
    "\n",
    "LR-\n",
    "Accuracy:  0.8711192066383323\n",
    "AUC:  0.8711241606478308\n",
    "F1-Macro: 0.8711178887545675\n",
    "F1-Micro: 0.8711192066383323\n",
    "\n",
    "\n",
    "LinearSVC-\n",
    "Accuracy:  0.8710382513661202\n",
    "AUC:  0.8710288557953169\n",
    "F1-Macro: 0.8710277429730406\n",
    "F1-Micro: 0.8710382513661202\n",
    "\n",
    "**TFIDF SadeceIMDB test_size=0.2**\n",
    "\n",
    "LR-\n",
    "Accuracy:  0.8802510375544084\n",
    "AUC:  0.8803575447069225\n",
    "F1-Macro: 0.8802507970612468\n",
    "F1-Micro: 0.8802510375544084\n",
    "\n",
    "LinearSVC-\n",
    "Accuracy:  0.8870331005162466\n",
    "AUC:  0.8870709715606299\n",
    "F1-Macro: 0.8870298489734263\n",
    "F1-Micro: 0.8870331005162467"
   ]
  },
  {
   "cell_type": "code",
   "execution_count": 16,
   "id": "9da812dc",
   "metadata": {},
   "outputs": [],
   "source": [
    "def readFile(fileName):\n",
    "    file = open(fileName,encoding=\"utf-8\")\n",
    "    line = file.read()\n",
    "    file.close()\n",
    "    return line"
   ]
  },
  {
   "cell_type": "code",
   "execution_count": 35,
   "id": "9c205652",
   "metadata": {},
   "outputs": [
    {
     "name": "stderr",
     "output_type": "stream",
     "text": [
      "100%|██████████████████████████████████████████████████████████████████████| 1085702/1085702 [3:50:33<00:00, 78.48it/s]\n"
     ]
    }
   ],
   "source": [
    "#https://stackoverflow.com/questions/57000903/what-is-the-fastest-and-most-efficient-way-to-append-rows-to-a-dataframe\n",
    "from tqdm import tqdm\n",
    "\n",
    "directory = r'..\\KonusmaDB'\n",
    "\n",
    "dictinary_list = []\n",
    "for filename in tqdm(os.listdir(directory)):\n",
    "    speech=readFile(os.path.join(directory, filename))\n",
    "    dictionary_data = {'ID': filename.split(\".txt\")[0], 'Sentiment': lr.predict(vect.transform([speech]))[0]}\n",
    "    dictinary_list.append(dictionary_data)\n",
    "\n",
    "dfKonusma = pd.DataFrame.from_dict(dictinary_list)\n",
    "\n",
    "#for filename in tqdm(os.listdir(directory)):\n",
    "#    speech=readFile(os.path.join(directory, filename))\n",
    "#    dfKonusma = dfKonusma.append({'ID': filename.split(\".txt\")[0], 'Sentiment': lr.predict(vect.transform([speech]))[0]}, ignore_index=True)"
   ]
  },
  {
   "cell_type": "code",
   "execution_count": 36,
   "id": "819ffd5a",
   "metadata": {},
   "outputs": [
    {
     "name": "stdout",
     "output_type": "stream",
     "text": [
      "      ID  Sentiment\n",
      "0      1          1\n",
      "1     10          0\n",
      "2    100          0\n",
      "3   1000          1\n",
      "4  10000          0\n",
      "0    584032\n",
      "1    501670\n",
      "Name: Sentiment, dtype: int64\n"
     ]
    }
   ],
   "source": [
    "#tbmm sentiment classification details\n",
    "print(dfKonusma.head())\n",
    "print(dfKonusma.Sentiment.value_counts())"
   ]
  },
  {
   "cell_type": "code",
   "execution_count": 37,
   "id": "a35824b1",
   "metadata": {},
   "outputs": [],
   "source": [
    "dfKonusma.to_csv(\"./sentiments.csv\",index=False,sep=\",\")"
   ]
  },
  {
   "cell_type": "code",
   "execution_count": 38,
   "id": "a2a9467e",
   "metadata": {},
   "outputs": [
    {
     "name": "stdout",
     "output_type": "stream",
     "text": [
      "1085702 1085702\n"
     ]
    }
   ],
   "source": [
    "print(len(dfKonusma),len(os.listdir(directory)))"
   ]
  },
  {
   "cell_type": "code",
   "execution_count": 21,
   "id": "3508288b",
   "metadata": {},
   "outputs": [
    {
     "data": {
      "text/plain": [
       "0"
      ]
     },
     "execution_count": 21,
     "metadata": {},
     "output_type": "execute_result"
    }
   ],
   "source": [
    "deneme=\"\"\"Türkiye Taşkömürü Kurumunda azalan işçi sayısı Kurumun geleceğini tehlikeye sokmakla kalmayıp madenlerde kaza riskini artırmaktadır. 17 Temmuz tarihinde Kurumun Armutçuk Taşkömürü İşletme Müessesinde meydana gelen göçük nedeniyle 25 yaşındaki madencimiz Yunus Oku hayatını kaybederken bugün de Üzülmez Taşkömürü İşletme Müessesinde 29 yaşındaki Fatih Kafkas isimli maden işçimiz aynı şekilde can vermiştir. Bir hafta içerisinde peş peşe gerçekleşen bu iki kaza âdeta göz göre göre gelmiştir. Sayıştay raporlarında, Kurumda yeterli sayıda işçi tertip edilmemesinin hem üretim kayıplarına hem de iş kazalarına yol açtığı açıkça ifade edilmiştir. İşçi açığının giderilmediği TTK’de, Kurumun geleceği ve işçilerin hayatları karartılmaktadır. TTK’ye acil olarak…\"\"\"\n",
    "svc.predict(vect.transform([deneme]))[0]"
   ]
  },
  {
   "cell_type": "code",
   "execution_count": 27,
   "id": "8bda5332",
   "metadata": {},
   "outputs": [
    {
     "data": {
      "text/plain": [
       "array([1, 0], dtype=int64)"
      ]
     },
     "execution_count": 27,
     "metadata": {},
     "output_type": "execute_result"
    }
   ],
   "source": [
    "svc.predict(vect.transform([\"\"\"Böyle kapsamlı geldik çünkü Komisyonda konuşacağımızı, katma değer vergisiyle ilgili bir kanunu görüşeceğimizi düşünüyorduk, burada torba kanunu görüşüyoruz. Onun için, hazırlık yapmadan kürsüye çıkmış olduk, biraz da kalabalık geldik. Sayın Başkanım, değerli arkadaşlarım; hepinizi saygıyla selamlıyorum. Sayın Başkanım, sizi tebrik ediyorum, hayırlı uğurlu olsun, başarılar diliyorum.\"\"\",\"asdas\"]))"
   ]
  },
  {
   "cell_type": "code",
   "execution_count": 34,
   "id": "06475ac1",
   "metadata": {},
   "outputs": [],
   "source": [
    "del local_vars"
   ]
  },
  {
   "cell_type": "markdown",
   "id": "41654690",
   "metadata": {},
   "source": [
    "0    6059\n",
    "1    3940"
   ]
  }
 ],
 "metadata": {
  "kernelspec": {
   "display_name": "Python 3",
   "language": "python",
   "name": "python3"
  },
  "language_info": {
   "codemirror_mode": {
    "name": "ipython",
    "version": 3
   },
   "file_extension": ".py",
   "mimetype": "text/x-python",
   "name": "python",
   "nbconvert_exporter": "python",
   "pygments_lexer": "ipython3",
   "version": "3.7.0"
  }
 },
 "nbformat": 4,
 "nbformat_minor": 5
}
