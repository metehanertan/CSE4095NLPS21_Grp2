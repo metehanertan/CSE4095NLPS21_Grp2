{
 "cells": [
  {
   "cell_type": "code",
   "execution_count": 1,
   "id": "5a0ed575",
   "metadata": {
    "scrolled": true
   },
   "outputs": [
    {
     "name": "stdout",
     "output_type": "stream",
     "text": [
      "1.7.1+cu110\n"
     ]
    },
    {
     "name": "stderr",
     "output_type": "stream",
     "text": [
      "d:\\py\\lib\\site-packages\\sklearn\\base.py:315: UserWarning: Trying to unpickle estimator LabelEncoder from version 0.22.2.post1 when using version 0.24.2. This might lead to breaking code or invalid results. Use at your own risk.\n",
      "  UserWarning)\n"
     ]
    },
    {
     "data": {
      "text/plain": [
       "([['Türkiye', 'Büyük', 'Millet', 'Meclisi']],\n",
       " [['B-MISC', 'I-MISC', 'I-MISC', 'I-MISC']])"
      ]
     },
     "execution_count": 1,
     "metadata": {},
     "output_type": "execute_result"
    }
   ],
   "source": [
    "import pickle\n",
    "from NERDA.models import NERDA\n",
    "import torch\n",
    "\n",
    "print(torch.__version__)\n",
    "\n",
    "#load model and predict some example text\n",
    "loaded_model = pickle.load(open('bertNER.sav', 'rb'))\n",
    "loaded_model.predict_text(\"Türkiye Büyük Millet Meclisi\")"
   ]
  },
  {
   "cell_type": "code",
   "execution_count": 2,
   "id": "4e8bf4bc",
   "metadata": {
    "scrolled": true
   },
   "outputs": [
    {
     "data": {
      "text/plain": [
       "([['Fenerbahçe']], [['B-ORGANIZATION']])"
      ]
     },
     "execution_count": 2,
     "metadata": {},
     "output_type": "execute_result"
    }
   ],
   "source": [
    "loaded_model.predict_text(\"Fenerbahçe\")"
   ]
  },
  {
   "cell_type": "code",
   "execution_count": 3,
   "id": "ff80294d",
   "metadata": {
    "scrolled": false
   },
   "outputs": [
    {
     "data": {
      "text/plain": [
       "([['Murat', 'Can', 'Ganiz']], [['B-PERSON', 'I-PERSON', 'I-PERSON']])"
      ]
     },
     "execution_count": 3,
     "metadata": {},
     "output_type": "execute_result"
    }
   ],
   "source": [
    "loaded_model.predict_text(\"Murat Can Ganiz\")"
   ]
  }
 ],
 "metadata": {
  "kernelspec": {
   "display_name": "Python 3",
   "language": "python",
   "name": "python3"
  },
  "language_info": {
   "codemirror_mode": {
    "name": "ipython",
    "version": 3
   },
   "file_extension": ".py",
   "mimetype": "text/x-python",
   "name": "python",
   "nbconvert_exporter": "python",
   "pygments_lexer": "ipython3",
   "version": "3.7.0"
  }
 },
 "nbformat": 4,
 "nbformat_minor": 5
}
